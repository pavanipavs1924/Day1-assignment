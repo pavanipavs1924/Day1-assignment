{
 "cells": [
  {
   "cell_type": "markdown",
   "metadata": {},
   "source": [
    "# a= (2x+5/x^2+5x+6)"
   ]
  },
  {
   "cell_type": "code",
   "execution_count": 8,
   "metadata": {},
   "outputs": [
    {
     "name": "stdout",
     "output_type": "stream",
     "text": [
      "Enter the number:5\n",
      "Result is: 0.26785714285714285\n"
     ]
    }
   ],
   "source": [
    "x=int(input(\"Enter the number:\"))\n",
    "\n",
    "y=2*x+5\n",
    "z=x*x+5*x+6\n",
    "a=y/z\n",
    "print(\"Result is:\", a)\n",
    "\n"
   ]
  },
  {
   "cell_type": "markdown",
   "metadata": {},
   "source": [
    "# b=(x^2+5x+6/2x+5)"
   ]
  },
  {
   "cell_type": "code",
   "execution_count": 9,
   "metadata": {},
   "outputs": [
    {
     "name": "stdout",
     "output_type": "stream",
     "text": [
      "Enter the number5\n",
      "Result is: 3.7333333333333334\n"
     ]
    }
   ],
   "source": [
    "x=int(input(\"Enter the number\"))\n",
    "y=x*x+5*x+6\n",
    "z=2*x+5\n",
    "b=y/z\n",
    "print(\"Result is:\",b)"
   ]
  },
  {
   "cell_type": "markdown",
   "metadata": {},
   "source": [
    "# c=(2x-3)(x+9)"
   ]
  },
  {
   "cell_type": "code",
   "execution_count": 10,
   "metadata": {},
   "outputs": [
    {
     "name": "stdout",
     "output_type": "stream",
     "text": [
      "Enter the number:5\n",
      "Result is: 98\n"
     ]
    }
   ],
   "source": [
    "x=int(input(\"Enter the number:\"))\n",
    "y=2*x-3\n",
    "z=x+9\n",
    "c=y*z\n",
    "print(\"Result is:\",c)"
   ]
  },
  {
   "cell_type": "markdown",
   "metadata": {},
   "source": [
    "# while nested loop "
   ]
  },
  {
   "cell_type": "code",
   "execution_count": 5,
   "metadata": {},
   "outputs": [
    {
     "name": "stdout",
     "output_type": "stream",
     "text": [
      "Enter username: kunni\n",
      "Enter password: dofg\n",
      "incrct password\n",
      "enter valid passwordsdg\n",
      "incrct password\n",
      "enter valid passwordgfdg\n",
      "incrct password\n",
      "enter valid passworddhf\n",
      "incrct password\n",
      "enter valid passworddoll\n",
      "Congratulations,Login successful:)\n"
     ]
    }
   ],
   "source": [
    "attempt=0\n",
    "j=0\n",
    "username=input('Enter username: ')\n",
    "password=input('Enter password: ')\n",
    "while attempt<=5:\n",
    "    if password=='doll' and username=='kunni':\n",
    "        print(\"Congratulations,Login successful:)\")\n",
    "        break;\n",
    "        \n",
    "    else:\n",
    "        while j<=attempt:\n",
    "            if username!='kunni':\n",
    "                print(\"incrct username\")\n",
    "                username=input(\"enter  valid username\")\n",
    "                j+= 1\n",
    "            else:\n",
    "                print(\"incrct password\")\n",
    "                password=input(\"enter valid password\")\n",
    "                j+= 1\n",
    "                \n",
    "        \n",
    "    attempt+=1\n",
    "else:\n",
    "   print(\"Your account has been blocked,please try again after 48 hours\")"
   ]
  },
  {
   "cell_type": "code",
   "execution_count": null,
   "metadata": {},
   "outputs": [],
   "source": []
  }
 ],
 "metadata": {
  "kernelspec": {
   "display_name": "Python 3",
   "language": "python",
   "name": "python3"
  },
  "language_info": {
   "codemirror_mode": {
    "name": "ipython",
    "version": 3
   },
   "file_extension": ".py",
   "mimetype": "text/x-python",
   "name": "python",
   "nbconvert_exporter": "python",
   "pygments_lexer": "ipython3",
   "version": "3.8.5"
  }
 },
 "nbformat": 4,
 "nbformat_minor": 4
}
